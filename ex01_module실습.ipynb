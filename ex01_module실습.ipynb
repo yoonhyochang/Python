{
 "cells": [
  {
   "cell_type": "code",
   "execution_count": 2,
   "id": "2c94d79b",
   "metadata": {
    "ExecuteTime": {
     "end_time": "2022-12-06T05:33:19.496967Z",
     "start_time": "2022-12-06T05:33:19.483600Z"
    }
   },
   "outputs": [],
   "source": [
    "#모듈 사용해보기\n",
    "import cal_key_1 as ck"
   ]
  },
  {
   "cell_type": "code",
   "execution_count": 4,
   "id": "be3ed138",
   "metadata": {
    "ExecuteTime": {
     "end_time": "2022-12-06T05:35:10.924408Z",
     "start_time": "2022-12-06T05:35:10.916431Z"
    }
   },
   "outputs": [
    {
     "data": {
      "text/plain": [
       "30"
      ]
     },
     "execution_count": 4,
     "metadata": {},
     "output_type": "execute_result"
    }
   ],
   "source": [
    "# 더하기 기능 실행해보기\n",
    "ck.add(10,20)#함수 속성을 확인 shift + tab"
   ]
  },
  {
   "cell_type": "code",
   "execution_count": 5,
   "id": "86f9184a",
   "metadata": {
    "ExecuteTime": {
     "end_time": "2022-12-06T05:36:08.366270Z",
     "start_time": "2022-12-06T05:36:08.348275Z"
    }
   },
   "outputs": [
    {
     "data": {
      "text/plain": [
       "17"
      ]
     },
     "execution_count": 5,
     "metadata": {},
     "output_type": "execute_result"
    }
   ],
   "source": [
    "# 빼기 기능 실행해보기\n",
    "ck.sun(20,3)"
   ]
  },
  {
   "cell_type": "code",
   "execution_count": 6,
   "id": "26e5c5e8",
   "metadata": {
    "ExecuteTime": {
     "end_time": "2022-12-06T05:37:38.525803Z",
     "start_time": "2022-12-06T05:37:38.514834Z"
    }
   },
   "outputs": [],
   "source": [
    "from cal_key_1 import mul"
   ]
  },
  {
   "cell_type": "code",
   "execution_count": 7,
   "id": "7c55ce14",
   "metadata": {
    "ExecuteTime": {
     "end_time": "2022-12-06T05:38:01.587267Z",
     "start_time": "2022-12-06T05:38:01.580315Z"
    }
   },
   "outputs": [
    {
     "data": {
      "text/plain": [
       "24"
      ]
     },
     "execution_count": 7,
     "metadata": {},
     "output_type": "execute_result"
    }
   ],
   "source": [
    "mul(12,2)"
   ]
  },
  {
   "cell_type": "code",
   "execution_count": null,
   "id": "0d92f10a",
   "metadata": {},
   "outputs": [],
   "source": []
  },
  {
   "cell_type": "code",
   "execution_count": null,
   "id": "30b6f999",
   "metadata": {},
   "outputs": [],
   "source": []
  }
 ],
 "metadata": {
  "kernelspec": {
   "display_name": "Python 3 (ipykernel)",
   "language": "python",
   "name": "python3"
  },
  "language_info": {
   "codemirror_mode": {
    "name": "ipython",
    "version": 3
   },
   "file_extension": ".py",
   "mimetype": "text/x-python",
   "name": "python",
   "nbconvert_exporter": "python",
   "pygments_lexer": "ipython3",
   "version": "3.9.13"
  },
  "toc": {
   "base_numbering": 1,
   "nav_menu": {},
   "number_sections": true,
   "sideBar": true,
   "skip_h1_title": false,
   "title_cell": "Table of Contents",
   "title_sidebar": "Contents",
   "toc_cell": false,
   "toc_position": {},
   "toc_section_display": true,
   "toc_window_display": false
  }
 },
 "nbformat": 4,
 "nbformat_minor": 5
}
